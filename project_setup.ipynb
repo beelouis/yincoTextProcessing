{
 "cells": [
  {
   "cell_type": "markdown",
   "id": "638b6d88",
   "metadata": {},
   "source": [
    "# How to setup your python project\n",
    "## Install anaconda/miniconda\n",
    "<b>If you plan to do your assessment on the university's computers where anaconda is already installed feel free to skip this step</b><br/>\n",
    "1. Download the latest version of [miniconda](https://docs.conda.io/en/latest/miniconda.html) (or of the bigger [anaconda](https://www.anaconda.com/products/individual)). For MacOS users installing miniconda, choose the [Python 3.9 version ending with pkg](https://repo.anaconda.com/miniconda/Miniconda3-py39_4.10.3-MacOSX-x86_64.pkg).\n",
    "2. Follow the installation instructions detailed [here for MacOS](https://conda.io/projects/conda/en/latest/user-guide/install/macos.html) and [there for windows](https://conda.io/projects/conda/en/latest/user-guide/install/windows.html)."
   ]
  },
  {
   "cell_type": "markdown",
   "id": "56d7ad04",
   "metadata": {},
   "source": [
    "## Create a virtual environment\n",
    "Now that you have successfully installed anaconda/miniconda on your computer. Let's create the virtual environement that you will use for this project. A virtual environment is a isolated environment where you will install locally any dependencies you need for a given Python project. You should use a virtual environment for each of your Python projects to avoid collisions between library versions.\n",
    "\n",
    "\n",
    "1. Open a terminal (or a conda terminal in windows) and type `bash conda create --name myenv` with any name you would like in place of `myenv`\n",
    "2. When conda ask you `proceed ([y]/n)?`, type `y`\n",
    "3. Type `conda activate myenv` with `myenv` replaced by the environment name you chose in step 1\n",
    "4. Type `conda install --yes pandas matplotlib nltk scattertext openpyxl jupyter`\n",
    "5. Type `conda install -c bioconda cufflinks scikit-learn`"
   ]
  },
  {
   "cell_type": "markdown",
   "id": "3f89c422",
   "metadata": {},
   "source": [
    "## Start your assessment\n",
    "Now that you have a new environment set up, here is how to launch your notebook for the assessment.\n",
    "\n",
    "1. On Moodle, download the zip named assessment -2 all files and unzip it in the folder you want to use for your assessment\n",
    "2. Open a terminal (or a conda terminal in windows) and type `conda activate myenv` with `myenv` replaced by the environment name you chose.\n",
    "3. Move to the folder where your files are stored using `cd path/to/my/folder` replacing `path/to/my/folder` by the path to your folder on your computer.\n",
    "4. Type `jupyter notebook`\n",
    "\n",
    "You should now have a Jupyter tab in your browser where you can see the `.ipynb` files given for assessment 2"
   ]
  },
  {
   "cell_type": "markdown",
   "id": "81093b9e",
   "metadata": {},
   "source": [
    "## To go further\n",
    "\n",
    "Here are some visual recap of things that you may need for:\n",
    "- [Anaconda/miniconda](https://docs.conda.io/projects/conda/en/4.6.0/_downloads/52a95608c49671267e40c689e0bc00ca/conda-cheatsheet.pdf)\n",
    "- [Jupyter](http://datacamp-community-prod.s3.amazonaws.com/21fdc814-3f08-4aa9-90fa-247eedefd655)"
   ]
  }
 ],
 "metadata": {
  "kernelspec": {
   "display_name": "Python 3 (ipykernel)",
   "language": "python",
   "name": "python3"
  },
  "language_info": {
   "codemirror_mode": {
    "name": "ipython",
    "version": 3
   },
   "file_extension": ".py",
   "mimetype": "text/x-python",
   "name": "python",
   "nbconvert_exporter": "python",
   "pygments_lexer": "ipython3",
   "version": "3.8.10"
  }
 },
 "nbformat": 4,
 "nbformat_minor": 5
}
