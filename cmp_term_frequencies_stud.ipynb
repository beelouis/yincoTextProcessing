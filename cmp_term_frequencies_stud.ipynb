{
 "cells": [
  {
   "cell_type": "markdown",
   "metadata": {
    "pycharm": {
     "name": "#%% md\n"
    }
   },
   "source": [
    "## Term frequencies for two books\n",
    "\n",
    "In this example, we extract key terms from two books, and we compute their frequencies. The frequencies are saved to a CSV file for subsequent visualisation."
   ]
  },
  {
   "cell_type": "code",
   "execution_count": 1,
   "metadata": {
    "execution": {
     "iopub.execute_input": "2022-02-17T14:06:52.400072Z",
     "iopub.status.busy": "2022-02-17T14:06:52.399411Z",
     "iopub.status.idle": "2022-02-17T14:06:54.613295Z",
     "shell.execute_reply": "2022-02-17T14:06:54.613573Z"
    }
   },
   "outputs": [
    {
     "name": "stderr",
     "output_type": "stream",
     "text": [
      "[nltk_data] Downloading package punkt to /home/mgrzes/nltk_data...\n",
      "[nltk_data]   Package punkt is already up-to-date!\n",
      "[nltk_data] Downloading package stopwords to /home/mgrzes/nltk_data...\n",
      "[nltk_data]   Package stopwords is already up-to-date!\n"
     ]
    },
    {
     "name": "stdout",
     "output_type": "stream",
     "text": [
      "['gutenberg', 'ebook', 'brothers', 'karamazov', 'fyodor', 'dostoyevsky', 'ebook', 'use', 'anyone']\n",
      "['christie', 'murder', 'roger', 'ackroyd', 'book', 'jacket', 'none', 'agatha', 'christie']\n"
     ]
    }
   ],
   "source": [
    "import os\n",
    "import nltk\n",
    "from nltk.corpus import stopwords\n",
    "nltk.download('punkt')\n",
    "nltk.download('stopwords')\n",
    "\n",
    "def save_list(l, file):\n",
    "    f = open(file, 'w')\n",
    "    for w in l:\n",
    "        for e in w:\n",
    "            f.write(str(e) + ' ')\n",
    "        f.write(os.linesep)  # python will convert \\n to os.linesep\n",
    "    f.close()\n",
    "\n",
    "def read_book(file, to_rem):\n",
    "    # read the text file\n",
    "    str_book = open(file, 'r', encoding='utf-8-sig').read()\n",
    "    str_book = str_book.replace('\\n',' ')\n",
    "    str_book = str_book.replace('.',' ')\n",
    "    str_book = str_book.replace('‐','')\n",
    "    str_book =str_book.replace('—',' ')\n",
    "    str_book =str_book.replace(\"'\",' ')\n",
    "    str_book =str_book.replace(',',' ')\n",
    "    ## Tokenize; contractions are ignored by this method\n",
    "    tokens_book = nltk.word_tokenize(str_book)\n",
    "\n",
    "    ## to lower case\n",
    "    tokens_book = [w.lower() for w in tokens_book]\n",
    "\n",
    "    ## removing stop words\n",
    "    stop_words_set = set(stopwords.words('english'))\n",
    "    filtered_book = [w for w in tokens_book if not w in stop_words_set\n",
    "                   and not w in to_rem]\n",
    "\n",
    "    return filtered_book\n",
    "\n",
    "to_rem_bk = {',', '.', '’', '“', '”', '?', '!', ';', ':', '‘', '...', '....',\n",
    "             '(', ')', '_',\"'\", '-', '[', ']'}\n",
    "filtered_bk = read_book('data/Brothers Karamazov.txt',to_rem_bk)\n",
    "filtered_mra = read_book('data/The Murder of Roger Ackroyd.txt',to_rem_bk)\n",
    "\n",
    "# print 10 tokens from both books\n",
    "print(filtered_bk[1:10])\n",
    "print(filtered_mra[1:10])\n",
    "\n",
    "# Step 1: compute term frequencies for both books\n",
    "\n",
    "# Step 2: save the frequencies to a CSV file\n"
   ]
  },
  {
   "cell_type": "code",
   "execution_count": null,
   "metadata": {},
   "outputs": [],
   "source": []
  }
 ],
 "metadata": {
  "kernelspec": {
   "display_name": "Python 3 (ipykernel)",
   "language": "python",
   "name": "python3"
  },
  "language_info": {
   "codemirror_mode": {
    "name": "ipython",
    "version": 3
   },
   "file_extension": ".py",
   "mimetype": "text/x-python",
   "name": "python",
   "nbconvert_exporter": "python",
   "pygments_lexer": "ipython3",
   "version": "3.8.10"
  }
 },
 "nbformat": 4,
 "nbformat_minor": 1
}
