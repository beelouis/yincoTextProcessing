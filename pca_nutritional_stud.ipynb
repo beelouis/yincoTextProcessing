{
 "cells": [
  {
   "cell_type": "markdown",
   "metadata": {
    "pycharm": {
     "name": "#%% md\n"
    }
   },
   "source": [
    "# PCA Applied to a Nutritional Dataset\n",
    "\n",
    "This notebook is based on:\n",
    "https://scikit-learn.org/stable/auto_examples/decomposition/plot_incremental_pca.html#sphx-glr-auto-examples-decomposition-plot-incremental-pca-py\n",
    "\n",
    "This code loads the data from a spreadsheet and then visualises it after PCA. The first static plot is created using matplotlib, and the second one is interactive.\n",
    "\n",
    "`conda install -c conda-forge jupyterlab`"
   ]
  },
  {
   "cell_type": "markdown",
   "metadata": {
    "collapsed": false,
    "pycharm": {
     "name": "#%% md\n"
    }
   },
   "source": [
    "## Load the data"
   ]
  },
  {
   "cell_type": "code",
   "execution_count": 1,
   "metadata": {
    "execution": {
     "iopub.execute_input": "2022-02-17T14:07:03.139934Z",
     "iopub.status.busy": "2022-02-17T14:07:03.139512Z",
     "iopub.status.idle": "2022-02-17T14:07:07.388409Z",
     "shell.execute_reply": "2022-02-17T14:07:07.388747Z"
    }
   },
   "outputs": [
    {
     "data": {
      "text/html": [
       "<div>\n",
       "<style scoped>\n",
       "    .dataframe tbody tr th:only-of-type {\n",
       "        vertical-align: middle;\n",
       "    }\n",
       "\n",
       "    .dataframe tbody tr th {\n",
       "        vertical-align: top;\n",
       "    }\n",
       "\n",
       "    .dataframe thead th {\n",
       "        text-align: right;\n",
       "    }\n",
       "</style>\n",
       "<table border=\"1\" class=\"dataframe\">\n",
       "  <thead>\n",
       "    <tr style=\"text-align: right;\">\n",
       "      <th></th>\n",
       "      <th>NDB_No</th>\n",
       "      <th>Shrt_Desc</th>\n",
       "      <th>Water</th>\n",
       "      <th>Energ_Kcal</th>\n",
       "      <th>Protein</th>\n",
       "      <th>Lipd_Tot</th>\n",
       "      <th>Ash</th>\n",
       "      <th>Carbohydrt</th>\n",
       "      <th>Fiber_TD</th>\n",
       "      <th>Sugar_Tot</th>\n",
       "      <th>...</th>\n",
       "      <th>Beta_Crypt</th>\n",
       "      <th>Lycopene</th>\n",
       "      <th>Lut+Zea</th>\n",
       "      <th>FA_Sat</th>\n",
       "      <th>FA_Mono</th>\n",
       "      <th>FA_Poly</th>\n",
       "      <th>Cholestrl</th>\n",
       "      <th>GmWt_1</th>\n",
       "      <th>GmWt_2</th>\n",
       "      <th>Refuse_Pct</th>\n",
       "    </tr>\n",
       "  </thead>\n",
       "  <tbody>\n",
       "    <tr>\n",
       "      <th>0</th>\n",
       "      <td>1001</td>\n",
       "      <td>BUTTER,WITH SALT</td>\n",
       "      <td>15.870000</td>\n",
       "      <td>717</td>\n",
       "      <td>0.85</td>\n",
       "      <td>81.110001</td>\n",
       "      <td>2.11</td>\n",
       "      <td>0.06</td>\n",
       "      <td>0.0</td>\n",
       "      <td>0.06</td>\n",
       "      <td>...</td>\n",
       "      <td>0.0</td>\n",
       "      <td>0.0</td>\n",
       "      <td>0.0</td>\n",
       "      <td>51.368000</td>\n",
       "      <td>21.021000</td>\n",
       "      <td>3.043</td>\n",
       "      <td>215.0</td>\n",
       "      <td>227.00</td>\n",
       "      <td>14.2</td>\n",
       "      <td>0.0</td>\n",
       "    </tr>\n",
       "    <tr>\n",
       "      <th>1</th>\n",
       "      <td>1002</td>\n",
       "      <td>BUTTER,WHIPPED,WITH SALT</td>\n",
       "      <td>15.870000</td>\n",
       "      <td>717</td>\n",
       "      <td>0.85</td>\n",
       "      <td>81.110001</td>\n",
       "      <td>2.11</td>\n",
       "      <td>0.06</td>\n",
       "      <td>0.0</td>\n",
       "      <td>0.06</td>\n",
       "      <td>...</td>\n",
       "      <td>0.0</td>\n",
       "      <td>0.0</td>\n",
       "      <td>0.0</td>\n",
       "      <td>50.488998</td>\n",
       "      <td>23.426001</td>\n",
       "      <td>3.012</td>\n",
       "      <td>219.0</td>\n",
       "      <td>151.00</td>\n",
       "      <td>9.4</td>\n",
       "      <td>0.0</td>\n",
       "    </tr>\n",
       "    <tr>\n",
       "      <th>2</th>\n",
       "      <td>1003</td>\n",
       "      <td>BUTTER OIL,ANHYDROUS</td>\n",
       "      <td>0.240000</td>\n",
       "      <td>876</td>\n",
       "      <td>0.28</td>\n",
       "      <td>99.480003</td>\n",
       "      <td>0.00</td>\n",
       "      <td>0.00</td>\n",
       "      <td>0.0</td>\n",
       "      <td>0.00</td>\n",
       "      <td>...</td>\n",
       "      <td>0.0</td>\n",
       "      <td>0.0</td>\n",
       "      <td>0.0</td>\n",
       "      <td>61.924000</td>\n",
       "      <td>28.732000</td>\n",
       "      <td>3.694</td>\n",
       "      <td>256.0</td>\n",
       "      <td>205.00</td>\n",
       "      <td>12.8</td>\n",
       "      <td>0.0</td>\n",
       "    </tr>\n",
       "    <tr>\n",
       "      <th>3</th>\n",
       "      <td>1004</td>\n",
       "      <td>CHEESE,BLUE</td>\n",
       "      <td>42.410000</td>\n",
       "      <td>353</td>\n",
       "      <td>21.40</td>\n",
       "      <td>28.740000</td>\n",
       "      <td>5.11</td>\n",
       "      <td>2.34</td>\n",
       "      <td>0.0</td>\n",
       "      <td>0.50</td>\n",
       "      <td>...</td>\n",
       "      <td>0.0</td>\n",
       "      <td>0.0</td>\n",
       "      <td>0.0</td>\n",
       "      <td>18.669001</td>\n",
       "      <td>7.778000</td>\n",
       "      <td>0.800</td>\n",
       "      <td>75.0</td>\n",
       "      <td>28.35</td>\n",
       "      <td>17.3</td>\n",
       "      <td>0.0</td>\n",
       "    </tr>\n",
       "    <tr>\n",
       "      <th>4</th>\n",
       "      <td>1005</td>\n",
       "      <td>CHEESE,BRICK</td>\n",
       "      <td>41.110001</td>\n",
       "      <td>371</td>\n",
       "      <td>23.24</td>\n",
       "      <td>29.680000</td>\n",
       "      <td>3.18</td>\n",
       "      <td>2.79</td>\n",
       "      <td>0.0</td>\n",
       "      <td>0.51</td>\n",
       "      <td>...</td>\n",
       "      <td>0.0</td>\n",
       "      <td>0.0</td>\n",
       "      <td>0.0</td>\n",
       "      <td>18.764000</td>\n",
       "      <td>8.598000</td>\n",
       "      <td>0.784</td>\n",
       "      <td>94.0</td>\n",
       "      <td>132.00</td>\n",
       "      <td>113.0</td>\n",
       "      <td>0.0</td>\n",
       "    </tr>\n",
       "  </tbody>\n",
       "</table>\n",
       "<p>5 rows × 48 columns</p>\n",
       "</div>"
      ],
      "text/plain": [
       "   NDB_No                 Shrt_Desc      Water  Energ_Kcal  Protein  \\\n",
       "0    1001          BUTTER,WITH SALT  15.870000         717     0.85   \n",
       "1    1002  BUTTER,WHIPPED,WITH SALT  15.870000         717     0.85   \n",
       "2    1003      BUTTER OIL,ANHYDROUS   0.240000         876     0.28   \n",
       "3    1004               CHEESE,BLUE  42.410000         353    21.40   \n",
       "4    1005              CHEESE,BRICK  41.110001         371    23.24   \n",
       "\n",
       "    Lipd_Tot   Ash  Carbohydrt  Fiber_TD  Sugar_Tot  ...  Beta_Crypt  \\\n",
       "0  81.110001  2.11        0.06       0.0       0.06  ...         0.0   \n",
       "1  81.110001  2.11        0.06       0.0       0.06  ...         0.0   \n",
       "2  99.480003  0.00        0.00       0.0       0.00  ...         0.0   \n",
       "3  28.740000  5.11        2.34       0.0       0.50  ...         0.0   \n",
       "4  29.680000  3.18        2.79       0.0       0.51  ...         0.0   \n",
       "\n",
       "   Lycopene  Lut+Zea     FA_Sat    FA_Mono  FA_Poly  Cholestrl  GmWt_1  \\\n",
       "0       0.0      0.0  51.368000  21.021000    3.043      215.0  227.00   \n",
       "1       0.0      0.0  50.488998  23.426001    3.012      219.0  151.00   \n",
       "2       0.0      0.0  61.924000  28.732000    3.694      256.0  205.00   \n",
       "3       0.0      0.0  18.669001   7.778000    0.800       75.0   28.35   \n",
       "4       0.0      0.0  18.764000   8.598000    0.784       94.0  132.00   \n",
       "\n",
       "   GmWt_2  Refuse_Pct  \n",
       "0    14.2         0.0  \n",
       "1     9.4         0.0  \n",
       "2    12.8         0.0  \n",
       "3    17.3         0.0  \n",
       "4   113.0         0.0  \n",
       "\n",
       "[5 rows x 48 columns]"
      ]
     },
     "execution_count": 1,
     "metadata": {},
     "output_type": "execute_result"
    }
   ],
   "source": [
    "import numpy as np\n",
    "import matplotlib.pyplot as plt\n",
    "import pandas as pd\n",
    "\n",
    "from sklearn.decomposition import PCA\n",
    "\n",
    "# To read xlsx, install: pip install openpyxl\n",
    "# If you use dropna() then whenever python finds NaN in a row, it will return True and will remove whole row, doesn't matter if any value is there or not besides NaN.\n",
    "df = (pd.read_excel('data/CEqbBq1zDue_nutritional_data_english.xlsx').dropna())\n",
    "\n",
    "# extract categorical columns\n",
    "to_be_dropped = df.select_dtypes([object]).columns\n",
    "# but don't remove descriptions\n",
    "to_be_dropped = to_be_dropped.drop('Shrt_Desc')\n",
    "# remove categorical variables\n",
    "df= df.drop(to_be_dropped,axis=1)\n",
    "\n",
    "df.head()"
   ]
  },
  {
   "cell_type": "code",
   "execution_count": 2,
   "metadata": {
    "execution": {
     "iopub.execute_input": "2022-02-17T14:07:07.393792Z",
     "iopub.status.busy": "2022-02-17T14:07:07.392091Z",
     "iopub.status.idle": "2022-02-17T14:07:07.463238Z",
     "shell.execute_reply": "2022-02-17T14:07:07.462739Z"
    },
    "pycharm": {
     "name": "#%%\n"
    }
   },
   "outputs": [
    {
     "name": "stdout",
     "output_type": "stream",
     "text": [
      "             NDB_No        Water   Energ_Kcal      Protein     Lipd_Tot  \\\n",
      "count   1834.000000  1834.000000  1834.000000  1834.000000  1834.000000   \n",
      "mean   12388.346238    56.314886   219.244820    11.780125    10.903599   \n",
      "std     6455.664486    30.289503   173.868759    11.441660    16.809104   \n",
      "min     1001.000000     0.000000     0.000000     0.000000     0.000000   \n",
      "25%     8116.250000    34.725000    72.000000     1.742500     0.450000   \n",
      "50%    11948.500000    63.255001   194.500000     7.600000     4.650000   \n",
      "75%    17110.500000    81.575001   309.000000    21.665000    14.267500   \n",
      "max    44158.000000    99.900002   902.000000    85.599998   100.000000   \n",
      "\n",
      "               Ash   Carbohydrt     Fiber_TD    Sugar_Tot      Calcium  ...  \\\n",
      "count  1834.000000  1834.000000  1834.000000  1834.000000  1834.000000  ...   \n",
      "mean      1.915174    18.890703     1.726936     8.088272    70.759542  ...   \n",
      "std       4.135405    25.446314     3.482732    16.363228   286.552759  ...   \n",
      "min       0.000000     0.000000     0.000000     0.000000     0.000000  ...   \n",
      "25%       0.760000     0.000000     0.000000     0.000000    10.000000  ...   \n",
      "50%       1.130000     6.695000     0.200000     0.975000    20.000000  ...   \n",
      "75%       1.920000    25.110001     2.200000     7.047500    51.750000  ...   \n",
      "max      71.800003    99.980003    39.799999    99.910004  7364.000000  ...   \n",
      "\n",
      "        Beta_Crypt      Lycopene       Lut+Zea       FA_Sat      FA_Mono  \\\n",
      "count  1834.000000   1834.000000   1834.000000  1834.000000  1834.000000   \n",
      "mean     13.217557    186.169029    183.490731     3.898943     4.171362   \n",
      "std     203.182696   1723.192945   1113.310267     8.645204     7.264542   \n",
      "min       0.000000      0.000000      0.000000     0.000000     0.000000   \n",
      "25%       0.000000      0.000000      0.000000     0.079000     0.066000   \n",
      "50%       0.000000      0.000000      0.000000     1.340000     1.617000   \n",
      "75%       0.000000      0.000000     26.000000     4.404500     5.521500   \n",
      "max    7923.000000  40772.000000  19697.000000    93.700996    83.594002   \n",
      "\n",
      "           FA_Poly    Cholestrl       GmWt_1       GmWt_2   Refuse_Pct  \n",
      "count  1834.000000  1834.000000  1834.000000  1834.000000  1834.000000  \n",
      "mean      1.882324    39.701200   143.631183   141.698659     7.110687  \n",
      "std       4.413129   133.604562   142.282874   303.185966    14.354763  \n",
      "min       0.000000     0.000000     0.400000     0.540000     0.000000  \n",
      "25%       0.128250     0.000000    28.350000    28.350000     0.000000  \n",
      "50%       0.489000     2.000000   128.000000    83.000000     0.000000  \n",
      "75%       1.607000    68.000000   240.000000   163.000000     5.000000  \n",
      "max      47.174000  3100.000000  1801.310000  9979.000000    76.000000  \n",
      "\n",
      "[8 rows x 47 columns]\n",
      "The number of rows is: 1834\n"
     ]
    }
   ],
   "source": [
    "# we can sample a subset of rows if our dataset is large\n",
    "# df = df.sample(frac=0.5)\n",
    "\n",
    "print(df.describe())\n",
    "print(\"The number of rows is: \" + str(len(df.index)))"
   ]
  },
  {
   "cell_type": "code",
   "execution_count": 3,
   "metadata": {
    "execution": {
     "iopub.execute_input": "2022-02-17T14:07:07.466820Z",
     "iopub.status.busy": "2022-02-17T14:07:07.466478Z",
     "iopub.status.idle": "2022-02-17T14:07:07.470228Z",
     "shell.execute_reply": "2022-02-17T14:07:07.470569Z"
    },
    "pycharm": {
     "name": "#%%\n"
    }
   },
   "outputs": [
    {
     "name": "stdout",
     "output_type": "stream",
     "text": [
      "[[-1.33564149  2.86360207 -0.9555525   4.17782821  0.04712441 -0.74021878\n",
      "  -0.49599186 -0.49076267 -0.16322403 -0.66087865 -0.56901283 -0.43608346\n",
      "  -0.47823362  0.33945392 -0.48451856 -0.39877228 -0.24982947 -0.30154344\n",
      "  -0.12380911 -0.45823956 -0.51992394 -0.82364644 -0.48720927 -0.76747239\n",
      "  -0.36239146 -0.28797329 -0.2709373  -0.39008752 -0.21951988  0.5442443\n",
      "   0.98930052  1.02961434  0.50461451 -0.07100653 -0.11439706 -0.0566673\n",
      "  -0.06507032 -0.10806672 -0.1648604   5.39059123  2.6512187   0.25605046\n",
      "   1.34237708  0.05180403 -0.43648043 -0.49548896]\n",
      " [-1.85180258  3.77833434 -1.00538404  5.27098657 -0.46324281 -0.74257733\n",
      "  -0.49599186 -0.49443042 -0.23303824 -0.72874149 -0.6061545  -0.4974457\n",
      "  -0.51601385 -0.26999442 -0.49546395 -0.43746318 -0.25257097 -0.32258211\n",
      "  -0.12380911 -0.46885765 -0.6163352  -0.83475462 -0.61253966 -0.77484408\n",
      "  -0.39966717 -0.28797329 -0.31107346 -0.42313184 -0.2532316   0.7083029\n",
      "   1.24059505  1.28220647  0.67217221 -0.04531618 -0.11439706 -0.0343474\n",
      "  -0.06507032 -0.10806672 -0.1648604   6.71365078  3.3818149   0.41063146\n",
      "   1.61938926  0.43143319 -0.42526313 -0.49548896]]\n",
      "(1834, 46)\n"
     ]
    }
   ],
   "source": [
    "# We want the data in the numpy array\n",
    "\n",
    "# numeric data starts from the second column; we convert it to the np.array\n",
    "X = df[df.columns[2:]].to_numpy()\n",
    "# we also extract names of the food items; they are in column \"1\", which is \"Shrt_Desc\"\n",
    "X_names = df[df.columns[1]].to_numpy()\n",
    "\n",
    "from sklearn.preprocessing import StandardScaler\n",
    "\n",
    "# we will standardise our data; (x_i - m)/stdev\n",
    "X = StandardScaler().fit_transform(X)\n",
    "# print 3 rows to see normalised data\n",
    "print(X[1:3,:])\n",
    "print(X.shape)\n"
   ]
  },
  {
   "cell_type": "markdown",
   "metadata": {
    "pycharm": {
     "name": "#%% md\n"
    }
   },
   "source": [
    "### TODO: now you can run PCA here and generate scatterplots\n"
   ]
  }
 ],
 "metadata": {
  "kernelspec": {
   "display_name": "PyCharm (python-text-vis)",
   "language": "python",
   "name": "pycharm-4fb2ff0d"
  },
  "language_info": {
   "codemirror_mode": {
    "name": "ipython",
    "version": 3
   },
   "file_extension": ".py",
   "mimetype": "text/x-python",
   "name": "python",
   "nbconvert_exporter": "python",
   "pygments_lexer": "ipython3",
   "version": "3.8.5"
  }
 },
 "nbformat": 4,
 "nbformat_minor": 1
}
