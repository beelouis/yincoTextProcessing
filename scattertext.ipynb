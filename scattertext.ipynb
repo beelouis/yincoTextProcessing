{
 "cells": [
  {
   "cell_type": "markdown",
   "metadata": {
    "pycharm": {
     "name": "#%% md\n"
    }
   },
   "source": [
    "## Scattertext based on term frequencies\n",
    "\n",
    "A small example that shows how to generate a scattertext using term frequencies. We will use the scattertext package that is available here https://github.com/JasonKessler/scattertext"
   ]
  },
  {
   "cell_type": "markdown",
   "metadata": {
    "pycharm": {
     "name": "#%% md\n"
    }
   },
   "source": [
    "The first step is to load example data."
   ]
  },
  {
   "cell_type": "code",
   "execution_count": 1,
   "metadata": {
    "execution": {
     "iopub.execute_input": "2022-02-17T14:07:17.177670Z",
     "iopub.status.busy": "2022-02-17T14:07:17.176603Z",
     "iopub.status.idle": "2022-02-17T14:07:18.024961Z",
     "shell.execute_reply": "2022-02-17T14:07:18.025415Z"
    }
   },
   "outputs": [
    {
     "data": {
      "text/html": [
       "<div>\n",
       "<style scoped>\n",
       "    .dataframe tbody tr th:only-of-type {\n",
       "        vertical-align: middle;\n",
       "    }\n",
       "\n",
       "    .dataframe tbody tr th {\n",
       "        vertical-align: top;\n",
       "    }\n",
       "\n",
       "    .dataframe thead th {\n",
       "        text-align: right;\n",
       "    }\n",
       "</style>\n",
       "<table border=\"1\" class=\"dataframe\">\n",
       "  <thead>\n",
       "    <tr style=\"text-align: right;\">\n",
       "      <th></th>\n",
       "      <th>SPOKEN</th>\n",
       "      <th>FICTION</th>\n",
       "    </tr>\n",
       "    <tr>\n",
       "      <th>lemma</th>\n",
       "      <th></th>\n",
       "      <th></th>\n",
       "    </tr>\n",
       "  </thead>\n",
       "  <tbody>\n",
       "    <tr>\n",
       "      <th>the</th>\n",
       "      <td>3859682.0</td>\n",
       "      <td>4092394.0</td>\n",
       "    </tr>\n",
       "    <tr>\n",
       "      <th>I</th>\n",
       "      <td>1346545.0</td>\n",
       "      <td>1382716.0</td>\n",
       "    </tr>\n",
       "    <tr>\n",
       "      <th>they</th>\n",
       "      <td>609735.0</td>\n",
       "      <td>352405.0</td>\n",
       "    </tr>\n",
       "    <tr>\n",
       "      <th>she</th>\n",
       "      <td>212920.0</td>\n",
       "      <td>798208.0</td>\n",
       "    </tr>\n",
       "    <tr>\n",
       "      <th>would</th>\n",
       "      <td>233766.0</td>\n",
       "      <td>229865.0</td>\n",
       "    </tr>\n",
       "  </tbody>\n",
       "</table>\n",
       "</div>"
      ],
      "text/plain": [
       "          SPOKEN    FICTION\n",
       "lemma                      \n",
       "the    3859682.0  4092394.0\n",
       "I      1346545.0  1382716.0\n",
       "they    609735.0   352405.0\n",
       "she     212920.0   798208.0\n",
       "would   233766.0   229865.0"
      ]
     },
     "execution_count": 1,
     "metadata": {},
     "output_type": "execute_result"
    }
   ],
   "source": [
    "import pandas as pd\n",
    "\n",
    "# Read the data from the xls file.\n",
    "\n",
    "# https://www.wordfrequency.info/files/genres_sample.xls\n",
    "\n",
    "# The column 'lemma' contains words and it should become the index when we want to use scattertext.\n",
    "df = (pd.read_excel('data/genres_sample.xls')\n",
    "\t      .dropna()\n",
    "\t      .set_index('lemma')[['SPOKEN', 'FICTION']]\n",
    "\t      .iloc[:1000])\n",
    "\n",
    "df.head()"
   ]
  },
  {
   "cell_type": "markdown",
   "metadata": {
    "pycharm": {
     "name": "#%% md\n"
    }
   },
   "source": [
    "We will now generate the scattertext and save the result to a HTML file. The output file with the scattertext will be accessible via [this URL](logs/spoken_fiction.html)."
   ]
  },
  {
   "cell_type": "code",
   "execution_count": 2,
   "metadata": {
    "execution": {
     "iopub.execute_input": "2022-02-17T14:07:18.029210Z",
     "iopub.status.busy": "2022-02-17T14:07:18.028753Z",
     "iopub.status.idle": "2022-02-17T14:07:19.656383Z",
     "shell.execute_reply": "2022-02-17T14:07:19.656731Z"
    },
    "pycharm": {
     "name": "#%%\n"
    }
   },
   "outputs": [
    {
     "data": {
      "text/plain": [
       "662453"
      ]
     },
     "execution_count": 2,
     "metadata": {},
     "output_type": "execute_result"
    }
   ],
   "source": [
    "import scattertext as st\n",
    "\n",
    "term_cat_freq = st.TermCategoryFrequencies(df)\n",
    "\n",
    "html = st.produce_scattertext_explorer(\n",
    "\tterm_cat_freq,\n",
    "\tcategory='SPOKEN',\n",
    "\tcategory_name='Spoken',\n",
    "\tnot_category_name='Fiction',\n",
    ")\n",
    "\n",
    "# save the output to a file\n",
    "open(\"logs/spoken_fiction.html\", 'wb').write(html.encode('utf-8'))\n",
    "\n",
    "# from IPython.display import IFrame\n",
    "# IFrame('spoken_fiction.html', width=700, height=600)\n",
    "# from IPython.display import display, HTML\n",
    "# display(HTML(html.encode('utf-8')))\n"
   ]
  },
  {
   "cell_type": "markdown",
   "metadata": {
    "pycharm": {
     "name": "#%% md\n"
    }
   },
   "source": [
    "Load the token frequencies from a CVS file. This file has to be prepared in advance."
   ]
  },
  {
   "cell_type": "code",
   "execution_count": 3,
   "metadata": {
    "execution": {
     "iopub.execute_input": "2022-02-17T14:07:19.663653Z",
     "iopub.status.busy": "2022-02-17T14:07:19.661823Z",
     "iopub.status.idle": "2022-02-17T14:07:20.751282Z",
     "shell.execute_reply": "2022-02-17T14:07:20.751545Z"
    },
    "pycharm": {
     "name": "#%%\n"
    }
   },
   "outputs": [
    {
     "name": "stdout",
     "output_type": "stream",
     "text": [
      "Index(['Word', 'Brothers_Karamazov', 'Murder_of_Roger_Ackroyd'], dtype='object')\n",
      "        Word  Brothers_Karamazov  Murder_of_Roger_Ackroyd\n",
      "0    project                  89                        0\n",
      "1  gutenberg                  41                        0\n",
      "2      ebook                  15                        0\n",
      "3   brothers                  55                        0\n",
      "4  karamazov                 179                        0\n",
      "           Brothers_Karamazov  Murder_of_Roger_Ackroyd\n",
      "Word                                                  \n",
      "project                    89                        0\n",
      "gutenberg                  41                        0\n",
      "ebook                      15                        0\n",
      "brothers                   55                        0\n",
      "karamazov                 179                        0\n"
     ]
    },
    {
     "data": {
      "text/plain": [
       "1336483"
      ]
     },
     "execution_count": 3,
     "metadata": {},
     "output_type": "execute_result"
    }
   ],
   "source": [
    "# load the data from the CSV file\n",
    "df = pd.read_csv('logs/frequencies.csv')\n",
    "\n",
    "# remove spaces and tabs (they cause a lot of trouble)\n",
    "df.columns = df.columns.str.strip()\n",
    "print(df.columns)\n",
    "\n",
    "print(df.head())\n",
    "\n",
    "# words have to be an index for rows\n",
    "df = df.set_index('Word')\n",
    "print(df.head())\n",
    "\n",
    "term_cat_freq = st.TermCategoryFrequencies(df)\n",
    "\n",
    "html = st.produce_scattertext_explorer(\n",
    "\tterm_cat_freq,\n",
    "\tcategory='Brothers_Karamazov',\n",
    "\tcategory_name='Brothers_Karamazov',\n",
    "\tnot_category_name='Murder_of_Roger_Ackroyd',\n",
    ")\n",
    "\n",
    "open(\"logs/two_books_scattertext.html\", 'wb').write(html.encode('utf-8'))"
   ]
  },
  {
   "cell_type": "markdown",
   "metadata": {
    "pycharm": {
     "name": "#%% md\n"
    }
   },
   "source": [
    "The output file with the final scattertext is accessible via [this URL](logs/two_books_scattertext.html)."
   ]
  }
 ],
 "metadata": {
  "kernelspec": {
   "display_name": "PyCharm (python-text-vis)",
   "language": "python",
   "name": "pycharm-4fb2ff0d"
  },
  "language_info": {
   "codemirror_mode": {
    "name": "ipython",
    "version": 3
   },
   "file_extension": ".py",
   "mimetype": "text/x-python",
   "name": "python",
   "nbconvert_exporter": "python",
   "pygments_lexer": "ipython3",
   "version": "3.8.5"
  }
 },
 "nbformat": 4,
 "nbformat_minor": 1
}
